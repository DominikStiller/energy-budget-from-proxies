{
 "cells": [
  {
   "cell_type": "code",
   "execution_count": 1,
   "metadata": {},
   "outputs": [],
   "source": [
    "import sys\n",
    "\n",
    "sys.path.append(\"..\")\n",
    "\n",
    "%load_ext autoreload\n",
    "%autoreload complete"
   ]
  },
  {
   "cell_type": "code",
   "execution_count": 6,
   "metadata": {},
   "outputs": [],
   "source": [
    "from math import ceil\n",
    "from functools import partial\n",
    "from pathlib import Path\n",
    "import datetime\n",
    "\n",
    "import numpy as np\n",
    "import matplotlib.pyplot as plt\n",
    "import cartopy.crs as ccrs\n",
    "import xarray as xr\n",
    "import dask\n",
    "import cftime\n",
    "\n",
    "from lmrecon.io import IntakeESMLoader, save_mfdataset, open_mfdataset\n",
    "from lmrecon.plotting import plot_field\n",
    "from lmrecon.util import stack_state, unstack_state, is_dask_array, get_data_path, average_annually\n",
    "from lmrecon.eof import EOF, EOFMethod\n",
    "from lmrecon.spaces import PhysicalSpaceForecastSpaceMapper, Detrend, NanMask\n",
    "from lmrecon.logger import logging_disabled"
   ]
  },
  {
   "cell_type": "code",
   "execution_count": 66,
   "metadata": {},
   "outputs": [],
   "source": [
    "ds = open_mfdataset(get_data_path() / \"cmip6_annual_anomalies/MPI-ESM1-2-LR/past2k\")[\n",
    "    [\"ohc700\", \"tas\", \"psl\", \"pr\", \"zg500\"]\n",
    "]\n",
    "ds = ds.isel(time=slice(0, 30))\n",
    "ds"
   ]
  },
  {
   "cell_type": "code",
   "execution_count": 62,
   "metadata": {},
   "outputs": [],
   "source": [
    "data = ds[\"zg500\"].dropna(\"lat\")\n",
    "data = stack_state(data)\n",
    "data -= data.mean(dim=\"time\")\n",
    "data"
   ]
  },
  {
   "cell_type": "code",
   "execution_count": 63,
   "metadata": {},
   "outputs": [],
   "source": [
    "eof = EOF(10)\n",
    "eof.fit(data.data)"
   ]
  },
  {
   "cell_type": "code",
   "execution_count": 64,
   "metadata": {},
   "outputs": [],
   "source": [
    "fig, axs = plt.subplots(\n",
    "    1,\n",
    "    3,\n",
    "    figsize=(15, 5),\n",
    "    subplot_kw=dict(projection=ccrs.EqualEarth(central_longitude=198)),\n",
    ")\n",
    "\n",
    "axs[0].set_title(\"EOF 0\")\n",
    "plot_field(\n",
    "    axs[0],\n",
    "    unstack_state(xr.DataArray(eof.get_component(1), coords=dict(state=data.state)))[\"zg500\"].T,\n",
    "    cmap=\"RdBu_r\",\n",
    "    same_limits=True,\n",
    ")\n",
    "\n",
    "axs[1].set_title(\"ZG500 original\")\n",
    "plot_field(axs[1], unstack_state(data.isel(time=0))[\"zg500\"].T, cmap=\"RdBu_r\", same_limits=True)\n",
    "\n",
    "axs[2].set_title(\"ZG500 reconstructed\")\n",
    "plot_field(\n",
    "    axs[2],\n",
    "    unstack_state(\n",
    "        xr.DataArray(\n",
    "            eof.project_backwards(eof.project_forwards(data.isel(time=0).data)),\n",
    "            coords=dict(state=data.state),\n",
    "        )\n",
    "    )[\"zg500\"].T,\n",
    "    cmap=\"RdBu_r\",\n",
    "    same_limits=True,\n",
    ")"
   ]
  }
 ],
 "metadata": {
  "kernelspec": {
   "display_name": "Python 3",
   "language": "python",
   "name": "python3"
  },
  "language_info": {
   "codemirror_mode": {
    "name": "ipython",
    "version": 3
   },
   "file_extension": ".py",
   "mimetype": "text/x-python",
   "name": "python",
   "nbconvert_exporter": "python",
   "pygments_lexer": "ipython3",
   "version": "3.13.7"
  }
 },
 "nbformat": 4,
 "nbformat_minor": 4
}

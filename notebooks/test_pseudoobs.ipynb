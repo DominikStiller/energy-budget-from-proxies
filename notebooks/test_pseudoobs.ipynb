{
 "cells": [
  {
   "cell_type": "code",
   "execution_count": 1,
   "metadata": {
    "execution": {
     "iopub.execute_input": "2024-05-20T03:52:53.893850Z",
     "iopub.status.busy": "2024-05-20T03:52:53.891503Z",
     "iopub.status.idle": "2024-05-20T03:53:04.535164Z",
     "shell.execute_reply": "2024-05-20T03:53:04.534074Z",
     "shell.execute_reply.started": "2024-05-20T03:52:53.893516Z"
    }
   },
   "source": [
    "import sys\n",
    "\n",
    "sys.path.append(\"..\")\n",
    "\n",
    "%load_ext autoreload\n",
    "%autoreload complete"
   ],
   "outputs": []
  },
  {
   "cell_type": "code",
   "execution_count": 2,
   "metadata": {
    "execution": {
     "iopub.execute_input": "2024-05-13T07:16:33.041346Z",
     "iopub.status.busy": "2024-05-13T07:16:33.040833Z",
     "iopub.status.idle": "2024-05-13T07:16:33.234837Z",
     "shell.execute_reply": "2024-05-13T07:16:33.233866Z",
     "shell.execute_reply.started": "2024-05-13T07:16:33.041302Z"
    }
   },
   "source": [
    "from math import ceil\n",
    "from functools import partial\n",
    "from pathlib import Path\n",
    "import json\n",
    "\n",
    "import xarray as xr\n",
    "import numpy as np\n",
    "import matplotlib.pyplot as plt\n",
    "import cartopy.crs as ccrs\n",
    "import regionmask\n",
    "from pylipd.lipd import LiPD\n",
    "import cf_xarray as cfxr\n",
    "\n",
    "from lmrecon.io import open_mfdataset, save_mfdataset\n",
    "from lmrecon.plotting import plot_field\n",
    "from lmrecon.units import convert_thetaot_to_ohc\n",
    "from lmrecon.grid import GLOBAL_GRID\n",
    "from lmrecon.util import stack_state, get_data_path, get_base_path\n",
    "from lmrecon.stats import area_weighted_mean"
   ],
   "outputs": []
  },
  {
   "cell_type": "code",
   "execution_count": 3,
   "metadata": {
    "execution": {
     "iopub.execute_input": "2024-05-20T03:56:11.532051Z",
     "iopub.status.busy": "2024-05-20T03:56:11.531543Z",
     "iopub.status.idle": "2024-05-20T03:56:12.528047Z",
     "shell.execute_reply": "2024-05-20T03:56:12.527168Z",
     "shell.execute_reply.started": "2024-05-20T03:56:11.532007Z"
    }
   },
   "source": [
    "frequency = \"seasonal\"\n",
    "# frequency = \"annual\"\n",
    "ds_path = Path() / f\"cmip6_{frequency}_anomalies\" / \"MRI-ESM2-0\" / \"past1000\"\n",
    "ds = open_mfdataset(get_data_path() / ds_path)[\"tas\"]"
   ],
   "outputs": []
  },
  {
   "cell_type": "code",
   "execution_count": 9,
   "metadata": {
    "execution": {
     "iopub.execute_input": "2024-05-20T03:56:12.529728Z",
     "iopub.status.busy": "2024-05-20T03:56:12.529421Z",
     "iopub.status.idle": "2024-05-20T03:56:42.891683Z",
     "shell.execute_reply": "2024-05-20T03:56:42.890823Z",
     "shell.execute_reply.started": "2024-05-20T03:56:12.529699Z"
    }
   },
   "source": [
    "pages2k = LiPD()\n",
    "pages2k.load_from_dir(get_base_path() / \"proxies/Pages2kTemperature2_1_2\")"
   ],
   "outputs": []
  },
  {
   "cell_type": "code",
   "execution_count": 21,
   "metadata": {},
   "source": [
    "pages2k2 = LiPD()\n",
    "pages2k2.load_from_dir(get_base_path() / \"proxies/LiPD_Files\")"
   ],
   "outputs": []
  },
  {
   "cell_type": "code",
   "execution_count": 43,
   "metadata": {
    "execution": {
     "iopub.execute_input": "2024-05-20T03:56:42.893444Z",
     "iopub.status.busy": "2024-05-20T03:56:42.893135Z",
     "iopub.status.idle": "2024-05-20T03:56:44.181324Z",
     "shell.execute_reply": "2024-05-20T03:56:44.180465Z",
     "shell.execute_reply.started": "2024-05-20T03:56:42.893414Z"
    }
   },
   "source": [
    "locs = (\n",
    "    pages2k2.get_all_locations()\n",
    "    .sample(frac=1, random_state=np.random.default_rng(46234))\n",
    "    .rename(columns={\"geo_meanLat\": \"lat\", \"geo_meanLon\": \"lon\"})\n",
    "    .reset_index(drop=True)\n",
    ")\n",
    "locs[\"lon\"] = locs[\"lon\"] % 360\n",
    "locs.iloc[:30]"
   ],
   "outputs": []
  },
  {
   "cell_type": "code",
   "execution_count": 44,
   "metadata": {
    "execution": {
     "iopub.execute_input": "2024-05-20T03:56:44.182686Z",
     "iopub.status.busy": "2024-05-20T03:56:44.182376Z",
     "iopub.status.idle": "2024-05-20T03:56:48.480380Z",
     "shell.execute_reply": "2024-05-20T03:56:48.479535Z",
     "shell.execute_reply.started": "2024-05-20T03:56:44.182656Z"
    }
   },
   "source": [
    "obs = xr.combine_by_coords(\n",
    "    [\n",
    "        ds.sel(lat=[locs.lat.iloc[i]], lon=[locs.lon.iloc[i]], method=\"nearest\").stack(\n",
    "            dict(location=[\"lat\", \"lon\"])\n",
    "        )\n",
    "        for i in range(len(locs.index))\n",
    "    ]\n",
    ")\n",
    "obs"
   ],
   "outputs": []
  },
  {
   "cell_type": "code",
   "execution_count": 45,
   "metadata": {
    "execution": {
     "iopub.execute_input": "2024-05-13T07:13:45.753537Z",
     "iopub.status.busy": "2024-05-13T07:13:45.753052Z",
     "iopub.status.idle": "2024-05-13T07:13:46.713114Z",
     "shell.execute_reply": "2024-05-13T07:13:46.711924Z",
     "shell.execute_reply.started": "2024-05-13T07:13:45.753496Z"
    }
   },
   "source": [
    "sigma_obs = np.sqrt(0.4)"
   ],
   "outputs": []
  },
  {
   "cell_type": "code",
   "execution_count": 46,
   "metadata": {
    "execution": {
     "iopub.execute_input": "2024-05-13T07:13:46.715221Z",
     "iopub.status.busy": "2024-05-13T07:13:46.714829Z",
     "iopub.status.idle": "2024-05-13T07:13:46.936029Z",
     "shell.execute_reply": "2024-05-13T07:13:46.934994Z",
     "shell.execute_reply.started": "2024-05-13T07:13:46.715183Z"
    }
   },
   "source": [
    "obs[\"tas\"] += np.random.default_rng(52565641).normal(0, sigma_obs, obs[\"tas\"].shape)"
   ],
   "outputs": []
  },
  {
   "cell_type": "code",
   "execution_count": 10,
   "metadata": {},
   "source": [
    "# directory = get_data_path() / f\"pseudoobs_{frequency}\" / \"2024-06-03T01-40-42\"\n",
    "# save_mfdataset(\n",
    "#     cfxr.encode_multi_index_as_compress(obs, \"location\"), directory, add_timestamp=False\n",
    "# )\n",
    "\n",
    "# json.dump(\n",
    "#     {\n",
    "#         \"true_dataset\": str(ds_path),\n",
    "#         \"sigma_obs\": sigma_obs,\n",
    "#     },\n",
    "#     (directory / \"metadata.json\").open(\"w\"),\n",
    "#     indent=4,\n",
    "# )"
   ],
   "outputs": []
  },
  {
   "cell_type": "code",
   "execution_count": 47,
   "metadata": {
    "execution": {
     "iopub.execute_input": "2024-05-13T07:16:52.712403Z",
     "iopub.status.busy": "2024-05-13T07:16:52.712011Z",
     "iopub.status.idle": "2024-05-13T07:16:56.463244Z",
     "shell.execute_reply": "2024-05-13T07:16:56.462300Z",
     "shell.execute_reply.started": "2024-05-13T07:16:52.712370Z"
    }
   },
   "source": [
    "def plot_comparison():\n",
    "    fig, ax = plt.subplots()\n",
    "\n",
    "    ds_obs = obs[\"tas\"].sel(time=slice(1250, 1265)).mean(\"location\")\n",
    "    ax.plot(ds_obs.time, ds_obs)\n",
    "    \n",
    "    ds_true = area_weighted_mean(ds.sel(time=slice(1250, 1265)))\n",
    "    ax.plot(ds_true.time, ds_true)\n",
    "\n",
    "plot_comparison()"
   ],
   "outputs": []
  },
  {
   "cell_type": "code",
   "execution_count": 41,
   "metadata": {},
   "source": [
    "def plot_obs_loc():\n",
    "    fig, ax = plt.subplots(\n",
    "        figsize=(8, 4),\n",
    "        subplot_kw=dict(projection=ccrs.EqualEarth(central_longitude=180)),\n",
    "    )\n",
    "\n",
    "    ax.coastlines()\n",
    "    ax.scatter(obs.lon, obs.lat, transform=ccrs.PlateCarree(), color=\"C2\", s=20)\n",
    "\n",
    "plot_obs_loc()"
   ],
   "outputs": []
  },
  {
   "cell_type": "markdown",
   "metadata": {},
   "source": [
    "# Determining noise level"
   ]
  },
  {
   "cell_type": "markdown",
   "metadata": {},
   "source": [
    "Determined from annual mean data since seasonal cycle would have to be eliminated from seasonal data.\n",
    "Annual mean TAS has mean std of 0.66 K (very similar for median std). Commonly used SNR (ratio of stds) is 0.5 (e.g., Smerdon 2012 or Steiger 2014). Noise std is then 1.33 K."
   ]
  },
  {
   "cell_type": "code",
   "execution_count": null,
   "metadata": {
    "execution": {
     "iopub.execute_input": "2024-05-20T03:56:48.482301Z",
     "iopub.status.busy": "2024-05-20T03:56:48.481993Z",
     "iopub.status.idle": "2024-05-20T03:56:51.245445Z",
     "shell.execute_reply": "2024-05-20T03:56:51.244484Z",
     "shell.execute_reply.started": "2024-05-20T03:56:48.482270Z"
    }
   },
   "source": [
    "plt.plot(obs.time, obs[\"tas\"].sel(location=0))"
   ],
   "outputs": []
  },
  {
   "cell_type": "code",
   "execution_count": null,
   "metadata": {
    "execution": {
     "iopub.execute_input": "2024-05-20T03:57:49.944246Z",
     "iopub.status.busy": "2024-05-20T03:57:49.943728Z",
     "iopub.status.idle": "2024-05-20T03:57:55.062088Z",
     "shell.execute_reply": "2024-05-20T03:57:55.060960Z",
     "shell.execute_reply.started": "2024-05-20T03:57:49.944201Z"
    }
   },
   "source": [
    "obs.std(\"time\").mean().compute()"
   ],
   "outputs": []
  },
  {
   "cell_type": "code",
   "execution_count": null,
   "metadata": {
    "execution": {
     "iopub.execute_input": "2024-05-20T04:05:48.472421Z",
     "iopub.status.busy": "2024-05-20T04:05:48.471911Z",
     "iopub.status.idle": "2024-05-20T04:05:49.462262Z",
     "shell.execute_reply": "2024-05-20T04:05:49.461258Z",
     "shell.execute_reply.started": "2024-05-20T04:05:48.472375Z"
    }
   },
   "source": [
    "0.6629 / 0.5"
   ],
   "outputs": []
  }
 ],
 "metadata": {
  "kernelspec": {
   "display_name": "Python 3 (ipykernel)",
   "language": "python",
   "name": "python3"
  },
  "language_info": {
   "codemirror_mode": {
    "name": "ipython",
    "version": 3
   },
   "file_extension": ".py",
   "mimetype": "text/x-python",
   "name": "python",
   "nbconvert_exporter": "python",
   "pygments_lexer": "ipython3",
   "version": "3.11.9"
  }
 },
 "nbformat": 4,
 "nbformat_minor": 4
}

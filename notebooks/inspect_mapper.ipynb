{
 "cells": [
  {
   "cell_type": "code",
   "execution_count": 1,
   "metadata": {
    "execution": {
     "iopub.execute_input": "2024-05-14T02:11:35.146335Z",
     "iopub.status.busy": "2024-05-14T02:11:35.145793Z",
     "iopub.status.idle": "2024-05-14T02:11:35.204509Z",
     "shell.execute_reply": "2024-05-14T02:11:35.203623Z",
     "shell.execute_reply.started": "2024-05-14T02:11:35.146287Z"
    }
   },
   "source": [
    "import sys\n",
    "\n",
    "sys.path.append(\"..\")\n",
    "\n",
    "%load_ext autoreload\n",
    "%autoreload complete"
   ],
   "outputs": []
  },
  {
   "cell_type": "code",
   "execution_count": 2,
   "metadata": {
    "execution": {
     "iopub.execute_input": "2024-05-14T02:11:35.206315Z",
     "iopub.status.busy": "2024-05-14T02:11:35.205997Z",
     "iopub.status.idle": "2024-05-14T02:11:35.286572Z",
     "shell.execute_reply": "2024-05-14T02:11:35.285640Z",
     "shell.execute_reply.started": "2024-05-14T02:11:35.206285Z"
    }
   },
   "source": [
    "from math import ceil\n",
    "from functools import partial\n",
    "from pathlib import Path\n",
    "import json\n",
    "\n",
    "import numpy as np\n",
    "import matplotlib.pyplot as plt\n",
    "import matplotlib as mpl\n",
    "import cartopy.crs as ccrs\n",
    "import xarray as xr\n",
    "import cf_xarray as cfxr\n",
    "import dask.array\n",
    "import cftime\n",
    "import scipy\n",
    "\n",
    "from lmrecon.io import IntakeESMLoader, save_mfdataset, open_mfdataset\n",
    "from lmrecon.plotting import plot_field, format_plot, save_plot\n",
    "from lmrecon.util import (\n",
    "    stack_state,\n",
    "    unstack_state,\n",
    "    is_dask_array,\n",
    "    get_data_path, NanMask,\n",
    ")\n",
    "from lmrecon.logger import logging_disabled\n",
    "from lmrecon.eof import EOF\n",
    "from lmrecon.spaces import PhysicalSpaceForecastSpaceMapper\n",
    "from lmrecon.lim import LIM\n",
    "from lmrecon.time import month_name\n",
    "from lmrecon.stats import area_weighted_mean, Detrend"
   ],
   "outputs": []
  },
  {
   "cell_type": "code",
   "execution_count": 3,
   "metadata": {
    "execution": {
     "iopub.execute_input": "2024-05-14T02:11:35.288091Z",
     "iopub.status.busy": "2024-05-14T02:11:35.287717Z",
     "iopub.status.idle": "2024-05-14T02:11:35.324419Z",
     "shell.execute_reply": "2024-05-14T02:11:35.323420Z",
     "shell.execute_reply.started": "2024-05-14T02:11:35.288056Z"
    }
   },
   "source": [
    "plot_folder = Path(\"../plots\")"
   ],
   "outputs": []
  },
  {
   "cell_type": "code",
   "execution_count": 4,
   "metadata": {
    "execution": {
     "iopub.execute_input": "2024-05-14T02:11:35.326713Z",
     "iopub.status.busy": "2024-05-14T02:11:35.326342Z",
     "iopub.status.idle": "2024-05-14T02:11:35.372456Z",
     "shell.execute_reply": "2024-05-14T02:11:35.371476Z",
     "shell.execute_reply.started": "2024-05-14T02:11:35.326681Z"
    }
   },
   "source": [
    "reduced_space_dataset = \"2024-06-03T01-20-30\"\n",
    "mapper = PhysicalSpaceForecastSpaceMapper.load(\n",
    "    get_data_path() / \"reduced_space\" / reduced_space_dataset / \"mapper.pkl\"\n",
    ")"
   ],
   "outputs": []
  },
  {
   "cell_type": "code",
   "execution_count": 5,
   "metadata": {
    "execution": {
     "iopub.execute_input": "2024-05-14T02:11:35.373818Z",
     "iopub.status.busy": "2024-05-14T02:11:35.373514Z",
     "iopub.status.idle": "2024-05-14T02:12:56.467165Z",
     "shell.execute_reply": "2024-05-14T02:12:56.466262Z",
     "shell.execute_reply.started": "2024-05-14T02:11:35.373789Z"
    }
   },
   "source": [
    "def plot_eofs(fields):\n",
    "    fig, axs = plt.subplots(\n",
    "        3,\n",
    "        len(fields),\n",
    "        figsize=(len(fields) * 3, 5),\n",
    "        subplot_kw=dict(projection=ccrs.EqualEarth(central_longitude=198)),\n",
    "    )\n",
    "\n",
    "    for ax_col, field in zip(axs.T, fields):\n",
    "        ax_col[0].set_title(field)\n",
    "\n",
    "        for n, ax in enumerate(ax_col):\n",
    "            state = (\n",
    "                xr.DataArray(\n",
    "                    mapper.nan_masks[field].backward(\n",
    "                        mapper.eofs_individual[field].get_component(n)[:, np.newaxis]\n",
    "                    ),\n",
    "                    coords=dict(state=mapper.state_coords.sel(field=field), time=[0]),\n",
    "                )\n",
    "                .unstack(\"state\")\n",
    "                .squeeze()\n",
    "                .drop_vars(\"field\")\n",
    "                .transpose(..., \"lat\", \"lon\")\n",
    "            )\n",
    "            plot_field(ax, state, n_level=50, colorbar=False, cmap=\"RdBu_r\", same_limits=True)\n",
    "            ax.coastlines()\n",
    "\n",
    "    save_plot(plot_folder, \"eofs\")\n",
    "\n",
    "\n",
    "plot_eofs([\"tas\", \"tos\", \"ohc700\", \"rsut\", \"rlut\"])"
   ],
   "outputs": []
  }
 ],
 "metadata": {
  "kernelspec": {
   "display_name": "Python 3 (ipykernel)",
   "language": "python",
   "name": "python3"
  },
  "language_info": {
   "codemirror_mode": {
    "name": "ipython",
    "version": 3
   },
   "file_extension": ".py",
   "mimetype": "text/x-python",
   "name": "python",
   "nbconvert_exporter": "python",
   "pygments_lexer": "ipython3",
   "version": "3.11.9"
  }
 },
 "nbformat": 4,
 "nbformat_minor": 4
}

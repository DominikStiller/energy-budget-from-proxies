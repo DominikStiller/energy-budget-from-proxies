{
 "cells": [
  {
   "cell_type": "code",
   "execution_count": 1,
   "metadata": {
    "execution": {
     "iopub.execute_input": "2024-05-20T01:45:15.920513Z",
     "iopub.status.busy": "2024-05-20T01:45:15.920015Z",
     "iopub.status.idle": "2024-05-20T01:45:15.946921Z",
     "shell.execute_reply": "2024-05-20T01:45:15.946112Z",
     "shell.execute_reply.started": "2024-05-20T01:45:15.920465Z"
    }
   },
   "outputs": [],
   "source": [
    "import sys\n",
    "\n",
    "sys.path.append(\"..\")\n",
    "\n",
    "%load_ext autoreload\n",
    "%autoreload complete"
   ]
  },
  {
   "cell_type": "code",
   "execution_count": 2,
   "metadata": {
    "execution": {
     "iopub.execute_input": "2024-05-20T01:45:15.949021Z",
     "iopub.status.busy": "2024-05-20T01:45:15.948620Z",
     "iopub.status.idle": "2024-05-20T01:45:22.580479Z",
     "shell.execute_reply": "2024-05-20T01:45:22.579506Z",
     "shell.execute_reply.started": "2024-05-20T01:45:15.948988Z"
    }
   },
   "outputs": [],
   "source": [
    "from pathlib import Path\n",
    "\n",
    "import numpy as np\n",
    "import matplotlib.pyplot as plt\n",
    "import cartopy.crs as ccrs\n",
    "import xarray as xr\n",
    "import dask\n",
    "import cftime\n",
    "\n",
    "from lmrecon.io import open_mfdataset\n",
    "from lmrecon.plotting import plot_field\n",
    "from lmrecon.util import get_data_path, unstack_state\n",
    "from lmrecon.spaces import PhysicalSpaceForecastSpaceMapper\n",
    "from lmrecon.logger import logging_disabled"
   ]
  },
  {
   "cell_type": "code",
   "execution_count": 3,
   "metadata": {
    "execution": {
     "iopub.execute_input": "2024-05-20T01:45:46.039177Z",
     "iopub.status.busy": "2024-05-20T01:45:46.038646Z",
     "iopub.status.idle": "2024-05-20T01:45:46.838323Z",
     "shell.execute_reply": "2024-05-20T01:45:46.837216Z",
     "shell.execute_reply.started": "2024-05-20T01:45:46.039129Z"
    }
   },
   "outputs": [],
   "source": [
    "dataset = \"2024-06-03T01-20-30\"\n",
    "data = open_mfdataset(get_data_path() / \"reduced_space\" / dataset / \"seasonal_anomalies\")[\"data\"]\n",
    "data"
   ]
  },
  {
   "cell_type": "code",
   "execution_count": 4,
   "metadata": {
    "execution": {
     "iopub.execute_input": "2024-05-20T01:45:47.564955Z",
     "iopub.status.busy": "2024-05-20T01:45:47.564473Z",
     "iopub.status.idle": "2024-05-20T01:45:47.872025Z",
     "shell.execute_reply": "2024-05-20T01:45:47.871135Z",
     "shell.execute_reply.started": "2024-05-20T01:45:47.564912Z"
    }
   },
   "outputs": [],
   "source": [
    "mapper = PhysicalSpaceForecastSpaceMapper.load(\n",
    "    get_data_path() / \"reduced_space\" / dataset / \"mapper.pkl\"\n",
    ")"
   ]
  },
  {
   "cell_type": "code",
   "execution_count": 5,
   "metadata": {
    "execution": {
     "iopub.execute_input": "2024-05-20T01:45:47.873769Z",
     "iopub.status.busy": "2024-05-20T01:45:47.873376Z",
     "iopub.status.idle": "2024-05-20T01:45:55.166689Z",
     "shell.execute_reply": "2024-05-20T01:45:55.165459Z",
     "shell.execute_reply.started": "2024-05-20T01:45:47.873739Z"
    }
   },
   "outputs": [],
   "source": [
    "field = \"tas\"\n",
    "\n",
    "# Physical state reconstruction\n",
    "# with logging_disabled():\n",
    "#     state = unstack_state(mapper.backward(data.isel(time=0)))[field]\n",
    "\n",
    "# EOF\n",
    "state = (\n",
    "    xr.DataArray(\n",
    "        mapper.nan_masks[field].backward(\n",
    "            mapper.eofs_individual[field].get_component(0)[:, np.newaxis]\n",
    "        ),\n",
    "        coords=dict(state=mapper.state_coords.sel(field=field), time=[0]),\n",
    "    )\n",
    "    .unstack(\"state\")\n",
    "    .squeeze()\n",
    ")\n",
    "\n",
    "fig, ax = plt.subplots(subplot_kw=dict(projection=ccrs.EqualEarth(central_longitude=198)))\n",
    "plot_field(ax, state, cmap=\"RdBu_r\", same_limits=True)\n",
    "ax.coastlines()"
   ]
  }
 ],
 "metadata": {
  "kernelspec": {
   "display_name": "Python 3",
   "language": "python",
   "name": "python3"
  },
  "language_info": {
   "codemirror_mode": {
    "name": "ipython",
    "version": 3
   },
   "file_extension": ".py",
   "mimetype": "text/x-python",
   "name": "python",
   "nbconvert_exporter": "python",
   "pygments_lexer": "ipython3",
   "version": "3.13.7"
  }
 },
 "nbformat": 4,
 "nbformat_minor": 4
}

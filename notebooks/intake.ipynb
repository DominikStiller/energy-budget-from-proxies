{
 "cells": [
  {
   "cell_type": "code",
   "execution_count": null,
   "id": "6e75cea980841ba1",
   "metadata": {
    "ExecuteTime": {
     "end_time": "2023-11-21T23:37:30.342144410Z",
     "start_time": "2023-11-21T23:37:15.544198544Z"
    },
    "collapsed": false,
    "jupyter": {
     "outputs_hidden": false
    }
   },
   "outputs": [],
   "source": [
    "import intake\n",
    "import xarray as xr\n",
    "import warnings\n",
    "import xesmf as xe\n",
    "import matplotlib.pyplot as plt"
   ]
  },
  {
   "cell_type": "code",
   "execution_count": null,
   "id": "ebefafab",
   "metadata": {},
   "outputs": [],
   "source": [
    "cat = intake.open_esm_datastore(\"/home/enkf6/dstiller/CMIP6/catalog.json\")\n",
    "# cat = intake.open_esm_datastore(\"/glade/collections/cmip/catalog/intake-esm-datastore/catalogs/glade-cmip6.json\")"
   ]
  },
  {
   "cell_type": "code",
   "execution_count": 3,
   "id": "4e925851",
   "metadata": {},
   "outputs": [],
   "source": [
    "experiment = \"past2k\"\n",
    "model = \"MPI-ESM1-2-LR\""
   ]
  },
  {
   "cell_type": "code",
   "execution_count": 4,
   "id": "d40085ffd69e578a",
   "metadata": {
    "ExecuteTime": {
     "end_time": "2023-11-21T23:37:48.825132380Z",
     "start_time": "2023-11-21T23:37:45.370467716Z"
    },
    "collapsed": false,
    "jupyter": {
     "outputs_hidden": false
    }
   },
   "outputs": [],
   "source": [
    "cat.df"
   ]
  },
  {
   "cell_type": "code",
   "execution_count": 5,
   "id": "af7e8b07",
   "metadata": {},
   "outputs": [],
   "source": [
    "cat.search(\n",
    "    experiment_id=experiment,\n",
    "    source_id=model,\n",
    "    member_id=\"r1i1p1f1\",\n",
    "    table_id=\"Amon\",\n",
    "    variable_id=\"psl\",\n",
    ").unique()[\"time_range\"]"
   ]
  },
  {
   "cell_type": "code",
   "execution_count": 6,
   "id": "0b511c22",
   "metadata": {},
   "outputs": [],
   "source": [
    "dss = cat.search(\n",
    "    experiment_id=experiment,\n",
    "    source_id=model,\n",
    "    member_id=\"r1i1p1f1\",\n",
    "    table_id=\"Amon\",\n",
    "    variable_id=\"psl\",\n",
    "    grid_label=\"gn\",\n",
    "    # time_range=\"185001-186912\"\n",
    ").to_dataset_dict(progressbar=False)\n",
    "psl = next(iter(dss.values())).isel(time=0)\n",
    "psl"
   ]
  },
  {
   "cell_type": "code",
   "execution_count": 7,
   "id": "488fc0b7",
   "metadata": {},
   "outputs": [],
   "source": [
    "dss = cat.search(\n",
    "    experiment_id=experiment,\n",
    "    source_id=model,\n",
    "    member_id=\"r1i1p1f1\",\n",
    "    table_id=\"Amon\",\n",
    "    variable_id=\"tas\",\n",
    "    grid_label=\"gn\",\n",
    "    # time_range=\"185001-186912\"\n",
    ").to_dataset_dict(progressbar=False)\n",
    "tas = next(iter(dss.values())).isel(time=0)\n",
    "tas"
   ]
  },
  {
   "cell_type": "code",
   "execution_count": null,
   "id": "a192b2b9",
   "metadata": {},
   "outputs": [],
   "source": [
    "cat.search(\n",
    "    experiment_id=experiment,\n",
    "    source_id=model,\n",
    "    member_id=\"r1i1p1f1\",\n",
    "    table_id=\"Omon\",\n",
    "    variable_id=\"tos\",\n",
    "    grid_label=\"gn\",\n",
    "    # time_range=\"185001-186912\"\n",
    ")"
   ]
  },
  {
   "cell_type": "code",
   "execution_count": null,
   "id": "01ba5186",
   "metadata": {},
   "outputs": [],
   "source": [
    "dss = cat.search(\n",
    "    experiment_id=experiment,\n",
    "    source_id=model,\n",
    "    member_id=\"r1i1p1f1\",\n",
    "    table_id=\"Emon\",\n",
    "    variable_id=\"thetaot700\",\n",
    "    grid_label=\"gn\",\n",
    "    # time_range=\"185001-186912\"\n",
    ").to_dataset_dict(progressbar=False)\n",
    "thetaot = next(iter(dss.values())).isel(time=0)\n",
    "thetaot"
   ]
  },
  {
   "cell_type": "code",
   "execution_count": null,
   "id": "ee113fd2",
   "metadata": {},
   "outputs": [],
   "source": [
    "regridder = xe.Regridder(\n",
    "    tos,\n",
    "    xe.util.grid_global(\n",
    "        2,\n",
    "        2,\n",
    "        lon1=359,\n",
    "    ),\n",
    "    \"bilinear\",\n",
    "    ignore_degenerate=True,\n",
    ")\n",
    "regridder(tos, keep_attrs=True)"
   ]
  }
 ],
 "metadata": {
  "kernelspec": {
   "display_name": "Python 3",
   "language": "python",
   "name": "python3"
  },
  "language_info": {
   "codemirror_mode": {
    "name": "ipython",
    "version": 3
   },
   "file_extension": ".py",
   "mimetype": "text/x-python",
   "name": "python",
   "nbconvert_exporter": "python",
   "pygments_lexer": "ipython3",
   "version": "3.13.7"
  }
 },
 "nbformat": 4,
 "nbformat_minor": 5
}
